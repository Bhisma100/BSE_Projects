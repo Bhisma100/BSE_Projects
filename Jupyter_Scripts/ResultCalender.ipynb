{
 "cells": [
  {
   "cell_type": "code",
   "execution_count": 5,
   "metadata": {},
   "outputs": [],
   "source": [
    "from selenium import webdriver\n",
    "from selenium.webdriver.common.by import By\n",
    "from selenium.webdriver.chrome.options import Options\n",
    "from bs4 import BeautifulSoup as bs\n",
    "import gspread\n",
    "import pandas as pd"
   ]
  },
  {
   "cell_type": "code",
   "execution_count": 6,
   "metadata": {},
   "outputs": [],
   "source": [
    "header = {\n",
    "'scheme':'https',\n",
    "'Accept':'application/json, text/plain, */*',\n",
    "'Accept-Language':'en-US,en;q=0.8',\n",
    "'Referer':'https://www.bseindia.com/',\n",
    "'Sec-Ch-Ua':'\"Not_A Brand\";v=\"8\", \"Chromium\";v=\"120\", \"Brave\";v=\"120\"',\n",
    "'Sec-Ch-Ua-Mobile': '?0',\n",
    "'Sec-Ch-Ua-Platform':'\"Windows\"',\n",
    "'Sec-Fetch-Mode':'cors',\n",
    "'User-Agent':'Mozilla/5.0 (Windows NT 10.0; Win64; x64) AppleWebKit/537.36 (KHTML, like Gecko) Chrome/120.0.0.0 Safari/537.36'\n",
    "}\n",
    "chrome_options = Options()\n",
    "chrome_options.add_argument('--headless')\n",
    "for key, value in header.items():\n",
    "    chrome_options.add_argument(f\"{key}={value}\")\n",
    "driver = webdriver.Chrome(options=chrome_options)\n",
    "url = 'https://www.bseindia.com/corporates/Forth_Results.html'\n",
    "driver.get(url)\n",
    "source = driver.page_source"
   ]
  },
  {
   "cell_type": "code",
   "execution_count": 7,
   "metadata": {},
   "outputs": [],
   "source": [
    "gc = gspread.service_account(filename=r'C:\\Users\\Ashish Kumar Pal\\OneDrive\\Desktop\\Python\\Exchange Related task\\NSE_Projtects\\creds.json')\n",
    "spreadsheet_name = 'QuarterlyResultsTracker'\n",
    "sheet_name = 'Result calendar'\n",
    "sh = gc.open(spreadsheet_name).worksheet(sheet_name)"
   ]
  },
  {
   "cell_type": "code",
   "execution_count": 8,
   "metadata": {},
   "outputs": [],
   "source": [
    "soup = bs(source,'html.parser')\n",
    "Table = soup.find('table',{'class':'ng-scope'})\n",
    "table_content = []\n",
    "rows = Table.find_all('tr')\n",
    "for row in rows:\n",
    "    cells = row.find_all(['td', 'th'])\n",
    "    row_content = [cell.get_text(strip=True) for cell in cells]\n",
    "    table_content.append(row_content)"
   ]
  },
  {
   "cell_type": "code",
   "execution_count": 9,
   "metadata": {},
   "outputs": [],
   "source": [
    "Column = table_content[1]\n",
    "MainDf = table_content[2:]\n",
    "df = pd.DataFrame(MainDf,columns = Column)"
   ]
  },
  {
   "cell_type": "code",
   "execution_count": 10,
   "metadata": {},
   "outputs": [
    {
     "data": {
      "text/plain": [
       "{'spreadsheetId': '1RVcXIyD754djShGJR3_Xd78BQ2hLpzC8plgoc9qnFRE',\n",
       " 'updatedRange': \"'Result calendar'!A2:F2685\",\n",
       " 'updatedRows': 2684,\n",
       " 'updatedColumns': 6,\n",
       " 'updatedCells': 16104}"
      ]
     },
     "execution_count": 10,
     "metadata": {},
     "output_type": "execute_result"
    }
   ],
   "source": [
    "existing_data_range = sh.range('A2:F' + str(sh.row_count))\n",
    "for cell in existing_data_range:\n",
    "    cell.value = ''\n",
    "\n",
    "sh.update_cells(existing_data_range)"
   ]
  },
  {
   "cell_type": "code",
   "execution_count": 11,
   "metadata": {},
   "outputs": [
    {
     "data": {
      "text/plain": [
       "{'spreadsheetId': '1RVcXIyD754djShGJR3_Xd78BQ2hLpzC8plgoc9qnFRE',\n",
       " 'tableRange': \"'Result calendar'!A1:C1\",\n",
       " 'updates': {'spreadsheetId': '1RVcXIyD754djShGJR3_Xd78BQ2hLpzC8plgoc9qnFRE',\n",
       "  'updatedRange': \"'Result calendar'!A2:C1629\",\n",
       "  'updatedRows': 1628,\n",
       "  'updatedColumns': 3,\n",
       "  'updatedCells': 4884}}"
      ]
     },
     "execution_count": 11,
     "metadata": {},
     "output_type": "execute_result"
    }
   ],
   "source": [
    "values_lists = []\n",
    "Data_Dict = df.to_dict(orient='records')\n",
    "for data in Data_Dict:\n",
    "    values_lists.append([int(data['Security Code']), str(data['Security Name']), str(data['Result Date'])])\n",
    "sh.append_rows(values_lists)"
   ]
  }
 ],
 "metadata": {
  "kernelspec": {
   "display_name": "Python 3",
   "language": "python",
   "name": "python3"
  },
  "language_info": {
   "codemirror_mode": {
    "name": "ipython",
    "version": 3
   },
   "file_extension": ".py",
   "mimetype": "text/x-python",
   "name": "python",
   "nbconvert_exporter": "python",
   "pygments_lexer": "ipython3",
   "version": "3.12.1"
  }
 },
 "nbformat": 4,
 "nbformat_minor": 2
}
